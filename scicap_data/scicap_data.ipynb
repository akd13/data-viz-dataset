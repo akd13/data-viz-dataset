{
 "cells": [
  {
   "cell_type": "code",
   "execution_count": 21,
   "id": "cde23567",
   "metadata": {},
   "outputs": [],
   "source": [
    "import pandas as pd\n",
    "import os\n",
    "import json"
   ]
  },
  {
   "cell_type": "code",
   "execution_count": 2,
   "id": "284c9f80",
   "metadata": {},
   "outputs": [],
   "source": [
    "captions_dir = \"SciCap-Caption-All\"\n",
    "subfig_dir = \"SciCap-Yes-Subfig-Img\"\n",
    "no_subfig_dir = \"SciCap-No-Subfig-Img\""
   ]
  },
  {
   "cell_type": "markdown",
   "id": "37466676",
   "metadata": {},
   "source": [
    "### Check Captions"
   ]
  },
  {
   "cell_type": "code",
   "execution_count": 7,
   "id": "e44e4528",
   "metadata": {},
   "outputs": [],
   "source": [
    "types = ['train','test','val']"
   ]
  },
  {
   "cell_type": "code",
   "execution_count": 11,
   "id": "6d7a5919",
   "metadata": {},
   "outputs": [],
   "source": [
    "caption_files = set()\n",
    "for t in types:\n",
    "    captions = os.listdir(os.path.join(captions_dir, t))\n",
    "    caption_files.update(captions)"
   ]
  },
  {
   "cell_type": "code",
   "execution_count": 13,
   "id": "2b96d100",
   "metadata": {},
   "outputs": [
    {
     "data": {
      "text/plain": [
       "416804"
      ]
     },
     "execution_count": 13,
     "metadata": {},
     "output_type": "execute_result"
    }
   ],
   "source": [
    "len(caption_files)"
   ]
  },
  {
   "cell_type": "markdown",
   "id": "7069bfa1",
   "metadata": {},
   "source": [
    "### Subfig"
   ]
  },
  {
   "cell_type": "code",
   "execution_count": 71,
   "id": "14fc11a5",
   "metadata": {},
   "outputs": [],
   "source": [
    "subfig_images = {}\n",
    "for t in types:\n",
    "    subfig_images[t] = os.listdir(os.path.join(subfig_dir, t))"
   ]
  },
  {
   "cell_type": "code",
   "execution_count": 72,
   "id": "bf7a2cb4",
   "metadata": {},
   "outputs": [
    {
     "name": "stdout",
     "output_type": "stream",
     "text": [
      "train 226608\n",
      "DS_Store not in train\n",
      "test 28327\n",
      "DS_Store not in test\n",
      "val 28326\n",
      "DS_Store not in val\n"
     ]
    }
   ],
   "source": [
    "for t, images in subfig_images.items():\n",
    "    print(t, len(images))\n",
    "    try:\n",
    "        no_subfig_images[t].remove('.DS_Store')\n",
    "    except Exception:\n",
    "        print('DS_Store not in {}'.format(t))"
   ]
  },
  {
   "cell_type": "code",
   "execution_count": 73,
   "id": "9d07663e",
   "metadata": {},
   "outputs": [],
   "source": [
    "key = '1-lowercase-and-token-and-remove-figure-index'\n",
    "subfig_data = []\n",
    "for im_type, im_list in subfig_images.items():\n",
    "    for im in im_list:\n",
    "        json_file = im.split('.png')[0]+'.json'\n",
    "        f = open(os.path.join(captions_dir, im_type, json_file))\n",
    "        data = json.load(f)\n",
    "        row = [im, data[key]['caption'], data[key]['token'], im_type]\n",
    "        subfig_data.append(row)\n",
    "        f.close()"
   ]
  },
  {
   "cell_type": "code",
   "execution_count": 74,
   "id": "86fff8e1",
   "metadata": {},
   "outputs": [
    {
     "name": "stdout",
     "output_type": "stream",
     "text": [
      "283261\n"
     ]
    }
   ],
   "source": [
    "print(len(subfig_data))"
   ]
  },
  {
   "cell_type": "code",
   "execution_count": 75,
   "id": "3c5a0c06",
   "metadata": {},
   "outputs": [],
   "source": [
    "df_subfig = pd.DataFrame(subfig_data)"
   ]
  },
  {
   "cell_type": "code",
   "execution_count": 76,
   "id": "902c5e58",
   "metadata": {},
   "outputs": [],
   "source": [
    "df_subfig.to_csv('subfig.csv', index=False, header=[\"name\",\"caption\",\"tokens\",\"split\"])"
   ]
  },
  {
   "cell_type": "markdown",
   "id": "efc388a6",
   "metadata": {},
   "source": [
    "### No Subfig\n"
   ]
  },
  {
   "cell_type": "code",
   "execution_count": 58,
   "id": "08a14b45",
   "metadata": {},
   "outputs": [
    {
     "name": "stdout",
     "output_type": "stream",
     "text": [
      "DS_Store not in test\n",
      "DS_Store not in val\n"
     ]
    }
   ],
   "source": [
    "no_subfig_images = {}\n",
    "for t in types:\n",
    "    no_subfig_images[t] = os.listdir(os.path.join(no_subfig_dir, t))\n",
    "    try:\n",
    "        no_subfig_images[t].remove('.DS_Store')\n",
    "    except Exception:\n",
    "        print('DS_Store not in {}'.format(t))"
   ]
  },
  {
   "cell_type": "code",
   "execution_count": 59,
   "id": "eff785ad",
   "metadata": {},
   "outputs": [
    {
     "name": "stdout",
     "output_type": "stream",
     "text": [
      "train 106834\n",
      "test 13355\n",
      "val 13354\n"
     ]
    }
   ],
   "source": [
    "for t, images in no_subfig_images.items():\n",
    "    print(t, len(images))"
   ]
  },
  {
   "cell_type": "code",
   "execution_count": 60,
   "id": "9b2cf97e",
   "metadata": {},
   "outputs": [],
   "source": [
    "no_subfig_data = []\n",
    "key = '1-lowercase-and-token-and-remove-figure-index'\n",
    "for im_type, im_list in no_subfig_images.items():\n",
    "    for im in im_list:\n",
    "        json_file = im.split('.png')[0]+'.json'\n",
    "        f = open(os.path.join(captions_dir, im_type, json_file))\n",
    "        data = json.load(f)\n",
    "        row = [im, data[key]['caption'], data[key]['token'], im_type]\n",
    "        no_subfig_data.append(row)\n",
    "        f.close()"
   ]
  },
  {
   "cell_type": "code",
   "execution_count": 61,
   "id": "9ee0e3a6",
   "metadata": {},
   "outputs": [
    {
     "name": "stdout",
     "output_type": "stream",
     "text": [
      "133543\n",
      "133543\n"
     ]
    }
   ],
   "source": [
    "print(len(no_subfig_data))"
   ]
  },
  {
   "cell_type": "code",
   "execution_count": 65,
   "id": "5b98a5b7",
   "metadata": {},
   "outputs": [],
   "source": [
    "df = pd.DataFrame(no_subfig_data)"
   ]
  },
  {
   "cell_type": "code",
   "execution_count": 66,
   "id": "d663b133",
   "metadata": {},
   "outputs": [],
   "source": [
    "df.to_csv('no_subfig.csv', index=False, header=[\"name\",\"caption\",\"tokens\",\"split\"])"
   ]
  }
 ],
 "metadata": {
  "kernelspec": {
   "display_name": "cs224n",
   "language": "python",
   "name": "cs224n"
  },
  "language_info": {
   "codemirror_mode": {
    "name": "ipython",
    "version": 3
   },
   "file_extension": ".py",
   "mimetype": "text/x-python",
   "name": "python",
   "nbconvert_exporter": "python",
   "pygments_lexer": "ipython3",
   "version": "3.11.2"
  }
 },
 "nbformat": 4,
 "nbformat_minor": 5
}
